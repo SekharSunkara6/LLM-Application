{
  "nbformat": 4,
  "nbformat_minor": 0,
  "metadata": {
    "colab": {
      "provenance": [],
      "include_colab_link": true
    },
    "kernelspec": {
      "name": "python3",
      "display_name": "Python 3"
    },
    "language_info": {
      "name": "python"
    }
  },
  "cells": [
    {
      "cell_type": "markdown",
      "metadata": {
        "id": "view-in-github",
        "colab_type": "text"
      },
      "source": [
        "<a href=\"https://colab.research.google.com/github/SekharSunkara6/LLM-Application/blob/main/Colab.ipynb\" target=\"_parent\"><img src=\"https://colab.research.google.com/assets/colab-badge.svg\" alt=\"Open In Colab\"/></a>"
      ]
    },
    {
      "cell_type": "code",
      "execution_count": null,
      "metadata": {
        "id": "grDSligo3czf"
      },
      "outputs": [],
      "source": []
    },
    {
      "cell_type": "code",
      "source": [
        "import openai\n",
        "from datetime import datetime, timedelta\n",
        "import json\n",
        "\n",
        "# Initialize OpenAI API with your API key\n",
        "openai.api_key = 'your_openai_api_key'\n",
        "\n",
        "def process_query(query):\n",
        "    # Call OpenAI API to process user query with a history length of 4 messages\n",
        "    response = openai.Completion.create(\n",
        "        engine=\"text-davinci-002\",\n",
        "        prompt=query,\n",
        "        max_tokens=100,\n",
        "        temperature=0.7,\n",
        "        stop=None,\n",
        "        n=1,\n",
        "        stream=False,\n",
        "        logprobs=None,\n",
        "        echo=False,\n",
        "        history=[\"User: \" + query for query in query_history[-4:]]  # Use last 4 user queries as history\n",
        "    )\n",
        "\n",
        "    # Extract relevant information from OpenAI response\n",
        "    parsed_response = response['choices'][0]['text'].strip()\n",
        "    parsed_lines = parsed_response.split('\\n')\n",
        "\n",
        "    entities = []\n",
        "    parameters = []\n",
        "    start_dates = []\n",
        "    end_dates = []\n",
        "\n",
        "    for line in parsed_lines:\n",
        "        parts = line.split(':')\n",
        "        if len(parts) == 2:\n",
        "            key, value = parts[0].strip(), parts[1].strip()\n",
        "            if key == 'Entity':\n",
        "                entities.append(value)\n",
        "            elif key == 'Parameter':\n",
        "                parameters.append(value)\n",
        "            elif key == 'Start Date':\n",
        "                start_dates.append(value)\n",
        "            elif key == 'End Date':\n",
        "                end_dates.append(value)\n",
        "\n",
        "    # If start date or end date not extracted, set defaults\n",
        "    if not start_dates:\n",
        "        start_dates = [(datetime.today() - timedelta(days=365)).strftime('%Y-%m-%d')]\n",
        "    if not end_dates:\n",
        "        end_dates = [datetime.today().strftime('%Y-%m-%d')]\n",
        "\n",
        "    # Construct JSON objects\n",
        "    json_objects = []\n",
        "    for entity, parameter, start_date, end_date in zip(entities, parameters, start_dates, end_dates):\n",
        "        json_object = {\n",
        "            \"entity\": entity,\n",
        "            \"parameter\": parameter,\n",
        "            \"start_date\": start_date,\n",
        "            \"end_date\": end_date\n",
        "        }\n",
        "        json_objects.append(json_object)\n",
        "\n",
        "    return json_objects\n",
        "\n",
        "def convert_to_json(query):\n",
        "    # Process user query\n",
        "    data = process_query(query)\n",
        "\n",
        "    # Convert data to JSON format\n",
        "    json_data = json.dumps(data, indent=4)\n",
        "\n",
        "    return json_data\n",
        "\n",
        "# Example user queries\n",
        "query_history = [\"What is the revenue of Amazon?\", \"Show me the GMV of Flipkart from last year to now.\"]\n",
        "user_query = \"Compare the revenue of Amazon and Flipkart.\"\n",
        "\n",
        "# Convert user queries to JSON\n",
        "result = convert_to_json(user_query)\n",
        "print(result)\n"
      ],
      "metadata": {
        "id": "7KzVGCuW3tIL"
      },
      "execution_count": null,
      "outputs": []
    }
  ]
}